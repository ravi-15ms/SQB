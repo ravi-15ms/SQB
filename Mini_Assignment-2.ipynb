{
 "cells": [
  {
   "cell_type": "markdown",
   "metadata": {},
   "source": [
    "# Part -1"
   ]
  },
  {
   "cell_type": "code",
   "execution_count": 6,
   "metadata": {},
   "outputs": [
    {
     "name": "stdout",
     "output_type": "stream",
     "text": [
      "      [,1]          [,2]\n",
      "[1,]     5  0.0012400596\n",
      "[2,]    50  0.0019637607\n",
      "[3,]   100 -0.0020876957\n",
      "[4,]   500  0.0011066852\n",
      "[5,]  1000  0.0012343416\n",
      "[6,]  2500  0.0015190092\n",
      "[7,]  5000  0.0008058635\n",
      "[8,] 10000  0.0001224553\n",
      "      [,1]       [,2]\n",
      "[1,]     5 0.44572029\n",
      "[2,]    50 0.14692109\n",
      "[3,]   100 0.10322074\n",
      "[4,]   500 0.04432474\n",
      "[5,]  1000 0.03114226\n",
      "[6,]  2500 0.02038363\n",
      "[7,]  5000 0.01396205\n",
      "[8,] 10000 0.01039328\n"
     ]
    }
   ],
   "source": [
    "# program for calculating mean of sample mean and standard deviation of mean of sample means\n",
    "#mini-assign 2\n",
    "repetitions<-1000\t\t\t#repetition with value 1000\n",
    "\n",
    "data_mean<-matrix(nrow=8, ncol=(repetitions+1))\t#matrix with 8 rows and 1001 column\n",
    "data_std<-matrix(nrow=8, ncol=2)\n",
    "mean_sample_mean<-matrix(nrow=8, ncol=2)\t\t#array to save the final means of sample means\n",
    "\n",
    "data_mean[,1]<-c(5,50,100,500,1000,2500,5000,10000)\n",
    "data_std[,1]<-c(5,50,100,500,1000,2500,5000,10000)\n",
    "mean_sample_mean[,1]<-c(5,50,100,500,1000,2500,5000,10000)\n",
    "\n",
    "\n",
    "#mean matrix\n",
    "for(i in 1:nrow(data_mean)) {\t#i going from 1 to 8\n",
    "\tfor (j in 1:repetitions) {\t#j going from 1 to 1000\n",
    "\t\tx<-rnorm(data_mean[i,1])\t#different number of samples taken from normal distribution with mean 0\n",
    "\t\tsx<-mean(x)\t\t#mean of sample\n",
    "\t\tdata_mean[i,j+1]<-sx\t\t#storing value in next column of same row\n",
    "\t}\n",
    "}\n",
    "\n",
    "par(ask=TRUE)\n",
    "\n",
    "#calculating  std deviation and mean of sample means \n",
    "for(i in 1:nrow(data_mean)){\n",
    "\tmean_sample_mean[i,2]=mean(data_mean[i,-1])\n",
    "\tdata_std[i,2]=sd(data_mean[i,-1])\n",
    "}\n",
    "\n",
    "\n",
    "print(mean_sample_mean)\n",
    "print(data_std)\n",
    "\n",
    "#plot(data_std[,1],mean_sample_mean[,2], xlab='Number of samples',ylab='mean of sample means',main='Variation of mean of sample means vs No of samples')\n",
    "#plot(data_std[,1],data_std[,2], xlab='Number of samples',ylab='std_dev of sample means',main='Variation of std deviation of mean of sample mean vs No of samples')\n",
    "\n",
    "\n"
   ]
  },
  {
   "cell_type": "markdown",
   "metadata": {},
   "source": [
    "<b>Comments"
   ]
  },
  {
   "cell_type": "markdown",
   "metadata": {},
   "source": [
    "As the sample size increases the mean of sample mean approaches the actual mean of 0.\n",
    "Also with more sample size the standard deviation also decreases and distribution becomes narrower."
   ]
  },
  {
   "cell_type": "markdown",
   "metadata": {},
   "source": [
    "# Part-2"
   ]
  },
  {
   "cell_type": "code",
   "execution_count": 5,
   "metadata": {},
   "outputs": [
    {
     "name": "stdout",
     "output_type": "stream",
     "text": [
      "      [,1]     [,2]\n",
      "[1,]     5 3.964400\n",
      "[2,]    50 3.998560\n",
      "[3,]   100 4.007090\n",
      "[4,]   500 4.001966\n",
      "[5,]  1000 3.999476\n",
      "[6,]  2500 3.999948\n",
      "[7,]  5000 4.000421\n",
      "[8,] 10000 4.000468\n",
      "      [,1]       [,2]\n",
      "[1,]     5 0.69582815\n",
      "[2,]    50 0.21929801\n",
      "[3,]   100 0.15073139\n",
      "[4,]   500 0.06733547\n",
      "[5,]  1000 0.05064571\n",
      "[6,]  2500 0.02995434\n",
      "[7,]  5000 0.02275504\n",
      "[8,] 10000 0.01558622\n"
     ]
    }
   ],
   "source": [
    "#mini-assign 2 part 2\n",
    "repetitions<-1000\t\t\t#repetition with value 1000\n",
    "\n",
    "data_mean<-matrix(nrow=8, ncol=(repetitions+1))\t#matrix with 8 rows and 1001 column\n",
    "data_std<-matrix(nrow=8, ncol=2)\n",
    "mean_sample_mean<-matrix(nrow=8, ncol=2)\t\t#array to save the final means of sample means\n",
    "\n",
    "data_mean[,1]<-c(5,50,100,500,1000,2500,5000,10000)\n",
    "data_std[,1]<-c(5,50,100,500,1000,2500,5000,10000)\n",
    "mean_sample_mean[,1]<-c(5,50,100,500,1000,2500,5000,10000)\n",
    "\n",
    "\n",
    "#mean matrix\n",
    "p=0.4\t\t\t#proportion\n",
    "for(i in 1:nrow(data_mean)) {\t#i going from 1 to 8\n",
    "\tfor (j in 1:repetitions) {\t#j going from 1 to 1000\n",
    "\t\tx<-rbinom(data_mean[i,1],10,p)\t#different number of samples taken from binomial distribution\n",
    "\t\tsx<-mean(x)\t\t#mean of sample\n",
    "\t\tdata_mean[i,j+1]<-sx\t\t#storing value in next column of same row\n",
    "\t}\n",
    "}\n",
    "\n",
    "par(ask=TRUE)\n",
    "\n",
    "#std matrix\n",
    "#data_mean[1,-1]\n",
    "for(i in 1:nrow(data_mean)){\n",
    "\tmean_sample_mean[i,2]=mean(data_mean[i,-1])\n",
    "\tdata_std[i,2]=sd(data_mean[i,-1])\n",
    "}\n",
    "print(mean_sample_mean)\n",
    "print(data_std)\n"
   ]
  },
  {
   "cell_type": "markdown",
   "metadata": {},
   "source": [
    "The mean of binomial distribution is n*p(here it is 10*0.4)=4 same phenomena is being observed here that as number of samples is increased the sample mean approaches actual mean.\n",
    "The standard deviation of sample mean is reduced as sample size is increased."
   ]
  },
  {
   "cell_type": "code",
   "execution_count": null,
   "metadata": {},
   "outputs": [],
   "source": []
  }
 ],
 "metadata": {
  "kernelspec": {
   "display_name": "R",
   "language": "R",
   "name": "ir"
  },
  "language_info": {
   "codemirror_mode": "r",
   "file_extension": ".r",
   "mimetype": "text/x-r-source",
   "name": "R",
   "pygments_lexer": "r",
   "version": "3.4.4"
  }
 },
 "nbformat": 4,
 "nbformat_minor": 4
}
