{
 "cells": [
  {
   "cell_type": "markdown",
   "metadata": {},
   "source": [
    "Part -1"
   ]
  },
  {
   "cell_type": "code",
   "execution_count": 3,
   "metadata": {},
   "outputs": [
    {
     "data": {
      "text/html": [
       "<table>\n",
       "<caption>A matrix: 8 × 2 of type dbl</caption>\n",
       "<tbody>\n",
       "\t<tr><td>    5</td><td>-9.709515e-03</td></tr>\n",
       "\t<tr><td>   50</td><td>-2.864203e-03</td></tr>\n",
       "\t<tr><td>  100</td><td>-9.362146e-04</td></tr>\n",
       "\t<tr><td>  500</td><td> 6.883343e-04</td></tr>\n",
       "\t<tr><td> 1000</td><td>-1.371845e-03</td></tr>\n",
       "\t<tr><td> 2500</td><td> 4.824868e-04</td></tr>\n",
       "\t<tr><td> 5000</td><td>-3.484999e-05</td></tr>\n",
       "\t<tr><td>10000</td><td>-1.763712e-04</td></tr>\n",
       "</tbody>\n",
       "</table>\n"
      ],
      "text/latex": [
       "A matrix: 8 × 2 of type dbl\n",
       "\\begin{tabular}{ll}\n",
       "\t     5 & -9.709515e-03\\\\\n",
       "\t    50 & -2.864203e-03\\\\\n",
       "\t   100 & -9.362146e-04\\\\\n",
       "\t   500 &  6.883343e-04\\\\\n",
       "\t  1000 & -1.371845e-03\\\\\n",
       "\t  2500 &  4.824868e-04\\\\\n",
       "\t  5000 & -3.484999e-05\\\\\n",
       "\t 10000 & -1.763712e-04\\\\\n",
       "\\end{tabular}\n"
      ],
      "text/markdown": [
       "\n",
       "A matrix: 8 × 2 of type dbl\n",
       "\n",
       "|     5 | -9.709515e-03 |\n",
       "|    50 | -2.864203e-03 |\n",
       "|   100 | -9.362146e-04 |\n",
       "|   500 |  6.883343e-04 |\n",
       "|  1000 | -1.371845e-03 |\n",
       "|  2500 |  4.824868e-04 |\n",
       "|  5000 | -3.484999e-05 |\n",
       "| 10000 | -1.763712e-04 |\n",
       "\n"
      ],
      "text/plain": [
       "     [,1]  [,2]         \n",
       "[1,]     5 -9.709515e-03\n",
       "[2,]    50 -2.864203e-03\n",
       "[3,]   100 -9.362146e-04\n",
       "[4,]   500  6.883343e-04\n",
       "[5,]  1000 -1.371845e-03\n",
       "[6,]  2500  4.824868e-04\n",
       "[7,]  5000 -3.484999e-05\n",
       "[8,] 10000 -1.763712e-04"
      ]
     },
     "metadata": {},
     "output_type": "display_data"
    },
    {
     "data": {
      "text/html": [
       "<table>\n",
       "<caption>A matrix: 8 × 2 of type dbl</caption>\n",
       "<tbody>\n",
       "\t<tr><td>    5</td><td>0.425601030</td></tr>\n",
       "\t<tr><td>   50</td><td>0.142225453</td></tr>\n",
       "\t<tr><td>  100</td><td>0.105166465</td></tr>\n",
       "\t<tr><td>  500</td><td>0.044777055</td></tr>\n",
       "\t<tr><td> 1000</td><td>0.031504402</td></tr>\n",
       "\t<tr><td> 2500</td><td>0.019580419</td></tr>\n",
       "\t<tr><td> 5000</td><td>0.014456262</td></tr>\n",
       "\t<tr><td>10000</td><td>0.009618606</td></tr>\n",
       "</tbody>\n",
       "</table>\n"
      ],
      "text/latex": [
       "A matrix: 8 × 2 of type dbl\n",
       "\\begin{tabular}{ll}\n",
       "\t     5 & 0.425601030\\\\\n",
       "\t    50 & 0.142225453\\\\\n",
       "\t   100 & 0.105166465\\\\\n",
       "\t   500 & 0.044777055\\\\\n",
       "\t  1000 & 0.031504402\\\\\n",
       "\t  2500 & 0.019580419\\\\\n",
       "\t  5000 & 0.014456262\\\\\n",
       "\t 10000 & 0.009618606\\\\\n",
       "\\end{tabular}\n"
      ],
      "text/markdown": [
       "\n",
       "A matrix: 8 × 2 of type dbl\n",
       "\n",
       "|     5 | 0.425601030 |\n",
       "|    50 | 0.142225453 |\n",
       "|   100 | 0.105166465 |\n",
       "|   500 | 0.044777055 |\n",
       "|  1000 | 0.031504402 |\n",
       "|  2500 | 0.019580419 |\n",
       "|  5000 | 0.014456262 |\n",
       "| 10000 | 0.009618606 |\n",
       "\n"
      ],
      "text/plain": [
       "     [,1]  [,2]       \n",
       "[1,]     5 0.425601030\n",
       "[2,]    50 0.142225453\n",
       "[3,]   100 0.105166465\n",
       "[4,]   500 0.044777055\n",
       "[5,]  1000 0.031504402\n",
       "[6,]  2500 0.019580419\n",
       "[7,]  5000 0.014456262\n",
       "[8,] 10000 0.009618606"
      ]
     },
     "metadata": {},
     "output_type": "display_data"
    }
   ],
   "source": [
    "# program for calculating mean of sample mean and standard deviation of mean of sample means\n",
    "#mini-assign 2\n",
    "repetitions<-1000\t\t\t#repetition with value 1000\n",
    "\n",
    "data_mean<-matrix(nrow=8, ncol=(repetitions+1))\t#matrix with 8 rows and 1001 column\n",
    "data_std<-matrix(nrow=8, ncol=2)\n",
    "mean_sample_mean<-matrix(nrow=8, ncol=2)\t\t#array to save the final means of sample means\n",
    "\n",
    "data_mean[,1]<-c(5,50,100,500,1000,2500,5000,10000)\n",
    "data_std[,1]<-c(5,50,100,500,1000,2500,5000,10000)\n",
    "mean_sample_mean[,1]<-c(5,50,100,500,1000,2500,5000,10000)\n",
    "\n",
    "\n",
    "#mean matrix\n",
    "for(i in 1:nrow(data_mean)) {\t#i going from 1 to 8\n",
    "\tfor (j in 1:repetitions) {\t#j going from 1 to 1000\n",
    "\t\tx<-rnorm(data_mean[i,1])\t#different number of samples taken from normal distribution with mean 0\n",
    "\t\tsx<-mean(x)\t\t#mean of sample\n",
    "\t\tdata_mean[i,j+1]<-sx\t\t#storing value in next column of same row\n",
    "\t}\n",
    "}\n",
    "\n",
    "par(ask=TRUE)\n",
    "\n",
    "#calculating  std deviation and mean of sample means \n",
    "for(i in 1:nrow(data_mean)){\n",
    "\tmean_sample_mean[i,2]=mean(data_mean[i,-1])\n",
    "\tdata_std[i,2]=sd(data_mean[i,-1])\n",
    "}\n",
    "\n",
    "\n",
    "mean_sample_mean\n",
    "data_std\n",
    "\n",
    "#plot(data_std[,1],mean_sample_mean[,2], xlab='Number of samples',ylab='mean of sample means',main='Variation of mean of sample means vs No of samples')\n",
    "#plot(data_std[,1],data_std[,2], xlab='Number of samples',ylab='std_dev of sample means',main='Variation of std deviation of mean of sample mean vs No of samples')\n",
    "\n",
    "\n"
   ]
  }
 ],
 "metadata": {
  "kernelspec": {
   "display_name": "R",
   "language": "R",
   "name": "ir"
  },
  "language_info": {
   "codemirror_mode": "r",
   "file_extension": ".r",
   "mimetype": "text/x-r-source",
   "name": "R",
   "pygments_lexer": "r",
   "version": "3.4.4"
  }
 },
 "nbformat": 4,
 "nbformat_minor": 4
}
